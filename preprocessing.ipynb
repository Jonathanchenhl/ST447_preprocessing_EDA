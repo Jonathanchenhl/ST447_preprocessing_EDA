{
 "cells": [
  {
   "cell_type": "code",
   "execution_count": 1,
   "metadata": {},
   "outputs": [],
   "source": [
    "#file_path=\"C:/Users/Jonathan/Desktop/Data Analysis and Statistical Methods/dvsa1203.xlsx\"\n"
   ]
  },
  {
   "cell_type": "code",
   "execution_count": 2,
   "metadata": {},
   "outputs": [],
   "source": [
    "import numpy as np\n",
    "import pandas as pd\n",
    "import copy"
   ]
  },
  {
   "cell_type": "code",
   "execution_count": 4,
   "metadata": {},
   "outputs": [],
   "source": [
    "dict_sheets = pd.read_excel('./dvsa1203.ods', engine='odf', sheet_name=None)\n",
    "dfs = []\n",
    "\n",
    "for sheet_name in list(dict_sheets)[1:]:\n",
    "    df = dict_sheets[sheet_name].copy().iloc[6:].reset_index(drop=True)\n",
    "    df = df.dropna(axis=1, how=\"all\")\n",
    "    df.columns = [\n",
    "        \"Location\", \"Age\", \"Male Conducted\", \"Male Passes\", \"Male Pass rate\",\n",
    "        \"Female Conducted\", \"Female Passes\", \"Female Pass rate\",\n",
    "        \"Total Conducted\", \"Total Passes\", \"Total Pass rate\"\n",
    "    ]\n",
    "\n",
    "    # Forward fill missing locations\n",
    "    df[\"Location\"] = df[\"Location\"].ffill()\n",
    "\n",
    "    # Convert Age to numeric and filter by range\n",
    "    df[\"Age\"] = pd.to_numeric(df[\"Age\"], errors=\"coerce\")\n",
    "    df = df[df[\"Age\"].between(17, 25)]\n",
    "\n",
    "    # Add Year column\n",
    "    df[\"Year\"] = int(sheet_name.split(\"-\")[0])\n",
    "\n",
    "    # Convert all except Location to numeric\n",
    "    numeric_cols = df.columns.difference([\"Location\"])\n",
    "    df[numeric_cols] = df[numeric_cols].apply(pd.to_numeric, errors=\"coerce\")\n",
    "\n",
    "    # Mapping for genders\n",
    "    gender_mappings = {\n",
    "        \"Male\": [\"Location\", \"Year\", \"Age\", \"Male Conducted\", \"Male Passes\", \"Male Pass rate\"],\n",
    "        \"Female\": [\"Location\", \"Year\", \"Age\", \"Female Conducted\", \"Female Passes\", \"Female Pass rate\"],\n",
    "        \"Total\": [\"Location\", \"Year\", \"Age\", \"Total Conducted\", \"Total Passes\", \"Total Pass rate\"]\n",
    "    }\n",
    "\n",
    "    # Create a combined dataframe for all genders\n",
    "    df_list = []\n",
    "    for gender, cols in gender_mappings.items():\n",
    "        sub_df = df[cols].copy()\n",
    "        sub_df.columns = [\"Location\", \"Year\", \"Age\", \"Conducted\", \"Passes\", \"Pass rate\"]\n",
    "        sub_df.insert(2, \"Gender\", gender)\n",
    "        df_list.append(sub_df)\n",
    "\n",
    "    df = pd.concat(df_list, ignore_index=True)\n",
    "\n",
    "    # Convert Pass rate to fraction\n",
    "    df[\"Pass rate\"] /= 100\n",
    "\n",
    "    dfs.append(df)\n",
    "\n",
    "df = pd.concat(dfs, ignore_index=True)\n"
   ]
  },
  {
   "cell_type": "code",
   "execution_count": 5,
   "metadata": {},
   "outputs": [
    {
     "data": {
      "text/html": [
       "<div>\n",
       "<style scoped>\n",
       "    .dataframe tbody tr th:only-of-type {\n",
       "        vertical-align: middle;\n",
       "    }\n",
       "\n",
       "    .dataframe tbody tr th {\n",
       "        vertical-align: top;\n",
       "    }\n",
       "\n",
       "    .dataframe thead th {\n",
       "        text-align: right;\n",
       "    }\n",
       "</style>\n",
       "<table border=\"1\" class=\"dataframe\">\n",
       "  <thead>\n",
       "    <tr style=\"text-align: right;\">\n",
       "      <th></th>\n",
       "      <th>Location</th>\n",
       "      <th>Year</th>\n",
       "      <th>Gender</th>\n",
       "      <th>Age</th>\n",
       "      <th>Conducted</th>\n",
       "      <th>Passes</th>\n",
       "      <th>Pass rate</th>\n",
       "    </tr>\n",
       "  </thead>\n",
       "  <tbody>\n",
       "    <tr>\n",
       "      <th>0</th>\n",
       "      <td>Aberdeen North</td>\n",
       "      <td>2023</td>\n",
       "      <td>Male</td>\n",
       "      <td>17.0</td>\n",
       "      <td>301.0</td>\n",
       "      <td>180.0</td>\n",
       "      <td>0.598007</td>\n",
       "    </tr>\n",
       "    <tr>\n",
       "      <th>1</th>\n",
       "      <td>Aberdeen North</td>\n",
       "      <td>2023</td>\n",
       "      <td>Male</td>\n",
       "      <td>18.0</td>\n",
       "      <td>175.0</td>\n",
       "      <td>87.0</td>\n",
       "      <td>0.497143</td>\n",
       "    </tr>\n",
       "    <tr>\n",
       "      <th>2</th>\n",
       "      <td>Aberdeen North</td>\n",
       "      <td>2023</td>\n",
       "      <td>Male</td>\n",
       "      <td>19.0</td>\n",
       "      <td>123.0</td>\n",
       "      <td>54.0</td>\n",
       "      <td>0.439024</td>\n",
       "    </tr>\n",
       "    <tr>\n",
       "      <th>3</th>\n",
       "      <td>Aberdeen North</td>\n",
       "      <td>2023</td>\n",
       "      <td>Male</td>\n",
       "      <td>20.0</td>\n",
       "      <td>82.0</td>\n",
       "      <td>44.0</td>\n",
       "      <td>0.536585</td>\n",
       "    </tr>\n",
       "    <tr>\n",
       "      <th>4</th>\n",
       "      <td>Aberdeen North</td>\n",
       "      <td>2023</td>\n",
       "      <td>Male</td>\n",
       "      <td>21.0</td>\n",
       "      <td>55.0</td>\n",
       "      <td>34.0</td>\n",
       "      <td>0.618182</td>\n",
       "    </tr>\n",
       "  </tbody>\n",
       "</table>\n",
       "</div>"
      ],
      "text/plain": [
       "         Location  Year Gender   Age  Conducted  Passes  Pass rate\n",
       "0  Aberdeen North  2023   Male  17.0      301.0   180.0   0.598007\n",
       "1  Aberdeen North  2023   Male  18.0      175.0    87.0   0.497143\n",
       "2  Aberdeen North  2023   Male  19.0      123.0    54.0   0.439024\n",
       "3  Aberdeen North  2023   Male  20.0       82.0    44.0   0.536585\n",
       "4  Aberdeen North  2023   Male  21.0       55.0    34.0   0.618182"
      ]
     },
     "execution_count": 5,
     "metadata": {},
     "output_type": "execute_result"
    }
   ],
   "source": [
    "df.head()"
   ]
  },
  {
   "cell_type": "code",
   "execution_count": 6,
   "metadata": {},
   "outputs": [
    {
     "name": "stdout",
     "output_type": "stream",
     "text": [
      "Unique values in 'Year' column: [2023 2022 2021 2020 2019 2018 2017 2016 2015 2014 2013 2012 2011 2010\n",
      " 2009 2008 2007]\n"
     ]
    }
   ],
   "source": [
    "unique_years1 = df['Year'].unique()\n",
    "\n",
    "# Display the unique values\n",
    "print(\"Unique values in 'Year' column:\", unique_years1)"
   ]
  },
  {
   "cell_type": "code",
   "execution_count": 7,
   "metadata": {},
   "outputs": [
    {
     "name": "stdout",
     "output_type": "stream",
     "text": [
      "          Location  Year  Gender   Age  Conducted  Passes  Pass rate\n",
      "590       Camborne  2023    Male  17.0      775.0   361.0   0.465806\n",
      "591       Camborne  2023    Male  18.0      536.0   213.0   0.397388\n",
      "592       Camborne  2023    Male  19.0      284.0   120.0   0.422535\n",
      "593       Camborne  2023    Male  20.0      200.0    78.0   0.390000\n",
      "594       Camborne  2023    Male  21.0      132.0    57.0   0.431818\n",
      "...            ...   ...     ...   ...        ...     ...        ...\n",
      "145482  Wood Green  2007  Female  21.0      250.0   101.0   0.404000\n",
      "145483  Wood Green  2007  Female  22.0      233.0    90.0   0.386266\n",
      "145484  Wood Green  2007  Female  23.0      247.0    98.0   0.396761\n",
      "145485  Wood Green  2007  Female  24.0      186.0    75.0   0.403226\n",
      "145486  Wood Green  2007  Female  25.0      226.0    82.0   0.362832\n",
      "\n",
      "[612 rows x 7 columns]\n"
     ]
    }
   ],
   "source": [
    "# Assuming your DataFrame is named `df`\n",
    "\n",
    "#filtered_df = df[(df['Location'] == 'Camborne') | (df['Location'] == 'Wood Green (London)')]\n",
    "# filtered_df = df[\n",
    "#     ((df['Location'] == 'Camborne') | (df['Location'] == 'Wood Green (London)')) &\n",
    "#     (df['Gender'].isin(['Male', 'Female']))\n",
    "# ]\n",
    "desired_locations = ['Camborne', 'Wood Green (London)','Wood Green']\n",
    "desired_genders = ['Male', 'Female']\n",
    "\n",
    "# Filtering the DataFrame\n",
    "filtered_df = df[(df['Location'].isin(desired_locations)) & (df['Gender'].isin(desired_genders))]\n",
    "# Display the resulting DataFrame\n",
    "print(filtered_df)"
   ]
  },
  {
   "cell_type": "code",
   "execution_count": 8,
   "metadata": {},
   "outputs": [
    {
     "name": "stdout",
     "output_type": "stream",
     "text": [
      "Unique values in 'Year' column: [2023 2022 2021 2020 2019 2018 2017 2016 2015 2014 2013 2012 2011 2010\n",
      " 2009 2008 2007]\n"
     ]
    }
   ],
   "source": [
    "unique_years = filtered_df['Year'].unique()\n",
    "\n",
    "# Display the unique values\n",
    "print(\"Unique values in 'Year' column:\", unique_years)"
   ]
  },
  {
   "cell_type": "code",
   "execution_count": 9,
   "metadata": {},
   "outputs": [],
   "source": [
    "cleaned_df=copy.deepcopy(filtered_df)"
   ]
  },
  {
   "cell_type": "code",
   "execution_count": null,
   "metadata": {},
   "outputs": [],
   "source": [
    "# Map Gender: Male -> 1, Female -> 0\n",
    "cleaned_df['Gender'] = df['Gender'].map({'Male': 1, 'Female': 0})\n",
    "\n",
    "# Map Location: Camborne -> 1, Wood Green -> 0\n",
    "#cleaned_df['Location'] = df['Location'].map({'Camborne': 1, 'Wood Green (London)': 0})\n",
    "cleaned_df['Location'] = df['Location'].map({'Camborne': 1, 'Wood Green': 0, 'Wood Green (London)': 0})\n",
    "\n",
    "\n",
    "\n",
    "\n",
    "\n"
   ]
  },
  {
   "cell_type": "code",
   "execution_count": 11,
   "metadata": {},
   "outputs": [
    {
     "name": "stdout",
     "output_type": "stream",
     "text": [
      "Missing values per column:\n",
      "Location     0\n",
      "Year         0\n",
      "Gender       0\n",
      "Age          0\n",
      "Conducted    0\n",
      "Passes       0\n",
      "Pass rate    0\n",
      "dtype: int64\n",
      "\n",
      "Rows with missing values:\n",
      "Empty DataFrame\n",
      "Columns: [Location, Year, Gender, Age, Conducted, Passes, Pass rate]\n",
      "Index: []\n",
      "\n",
      "Number of duplicate rows: 0\n",
      "\n",
      "Data types of columns:\n",
      "Location     float64\n",
      "Year           int64\n",
      "Gender       float64\n",
      "Age          float64\n",
      "Conducted    float64\n",
      "Passes       float64\n",
      "Pass rate    float64\n",
      "dtype: object\n",
      "\n",
      "Unique values in 'Gender' column (expected: [1, 0]):\n",
      "[1. 0.]\n",
      "\n",
      "Unique values in 'Location' column (expected: [1, 0]):\n",
      "[1. 0.]\n",
      "\n",
      "Summary statistics for numerical columns:\n",
      "         Location         Year      Gender         Age   Conducted  \\\n",
      "count  612.000000   612.000000  612.000000  612.000000  612.000000   \n",
      "mean     0.500000  2015.000000    0.500000   21.000000  199.993464   \n",
      "std      0.500409     4.902987    0.500409    2.584101  136.454101   \n",
      "min      0.000000  2007.000000    0.000000   17.000000   18.000000   \n",
      "25%      0.000000  2011.000000    0.000000   19.000000   94.000000   \n",
      "50%      0.500000  2015.000000    0.500000   21.000000  180.000000   \n",
      "75%      1.000000  2019.000000    1.000000   23.000000  262.000000   \n",
      "max      1.000000  2023.000000    1.000000   25.000000  775.000000   \n",
      "\n",
      "           Passes   Pass rate  \n",
      "count  612.000000  612.000000  \n",
      "mean    91.883987    0.461412  \n",
      "std     69.948950    0.071178  \n",
      "min      8.000000    0.265403  \n",
      "25%     44.000000    0.411911  \n",
      "50%     76.000000    0.457537  \n",
      "75%    110.000000    0.503937  \n",
      "max    398.000000    0.705882  \n",
      "\n",
      "Rows with invalid 'Age' values (outside 0-120):\n",
      "Empty DataFrame\n",
      "Columns: [Location, Year, Gender, Age, Conducted, Passes, Pass rate]\n",
      "Index: []\n",
      "\n",
      "Rows with invalid 'Pass rate' values (outside 0-1):\n",
      "Empty DataFrame\n",
      "Columns: [Location, Year, Gender, Age, Conducted, Passes, Pass rate]\n",
      "Index: []\n",
      "\n",
      "Shape of the dataset (rows, columns): (612, 7)\n"
     ]
    }
   ],
   "source": [
    "# Load your dataset (replace 'your_dataset.csv' with the actual file path) \n",
    "# cleaned_df = pd.read_csv('your_dataset.csv')\n",
    "\n",
    "# 1. Check for missing values\n",
    "print(\"Missing values per column:\")\n",
    "print(cleaned_df.isnull().sum())\n",
    "print(\"\\nRows with missing values:\")\n",
    "print(cleaned_df[cleaned_df.isnull().any(axis=1)])\n",
    "\n",
    "# 2. Check for duplicate rows\n",
    "print(\"\\nNumber of duplicate rows:\", cleaned_df.duplicated().sum())\n",
    "\n",
    "# 3. Verify data types\n",
    "print(\"\\nData types of columns:\")\n",
    "print(cleaned_df.dtypes)\n",
    "\n",
    "# 4. Check unique values for categorical columns\n",
    "print(\"\\nUnique values in 'Gender' column (expected: [1, 0]):\")\n",
    "print(cleaned_df['Gender'].unique())\n",
    "print(\"\\nUnique values in 'Location' column (expected: [1, 0]):\")\n",
    "print(cleaned_df['Location'].unique())\n",
    "\n",
    "# 5. Check range and distribution of numerical columns\n",
    "print(\"\\nSummary statistics for numerical columns:\")\n",
    "print(cleaned_df.describe())\n",
    "\n",
    "# Example check: Ensure 'Age' is in a reasonable range (e.g., 0 to 120)\n",
    "print(\"\\nRows with invalid 'Age' values (outside 0-120):\")\n",
    "print(cleaned_df[(cleaned_df['Age'] < 0) | (cleaned_df['Age'] > 120)])\n",
    "\n",
    "# Example check: Ensure 'Pass rate' is between 0 and 1\n",
    "print(\"\\nRows with invalid 'Pass rate' values (outside 0-1):\")\n",
    "print(cleaned_df[(cleaned_df['Pass rate'] < 0) | (cleaned_df['Pass rate'] > 1)])\n",
    "\n",
    "# 6. Check the shape of the DataFrame\n",
    "print(\"\\nShape of the dataset (rows, columns):\", cleaned_df.shape)\n"
   ]
  },
  {
   "cell_type": "code",
   "execution_count": 13,
   "metadata": {},
   "outputs": [],
   "source": [
    "cleaned_df.to_excel('preprocessed_data.xlsx',index=False)"
   ]
  },
  {
   "cell_type": "code",
   "execution_count": null,
   "metadata": {},
   "outputs": [],
   "source": []
  },
  {
   "cell_type": "code",
   "execution_count": null,
   "metadata": {},
   "outputs": [],
   "source": []
  },
  {
   "cell_type": "code",
   "execution_count": null,
   "metadata": {},
   "outputs": [],
   "source": []
  }
 ],
 "metadata": {
  "kernelspec": {
   "display_name": "pytorch-gpu",
   "language": "python",
   "name": "python3"
  },
  "language_info": {
   "codemirror_mode": {
    "name": "ipython",
    "version": 3
   },
   "file_extension": ".py",
   "mimetype": "text/x-python",
   "name": "python",
   "nbconvert_exporter": "python",
   "pygments_lexer": "ipython3",
   "version": "3.8.18"
  }
 },
 "nbformat": 4,
 "nbformat_minor": 2
}
